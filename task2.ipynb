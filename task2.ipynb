{
  "nbformat": 4,
  "nbformat_minor": 0,
  "metadata": {
    "colab": {
      "provenance": [],
      "authorship_tag": "ABX9TyMt6Gi5xdsjWhPAsWlCQy2T",
      "include_colab_link": true
    },
    "kernelspec": {
      "name": "python3",
      "display_name": "Python 3"
    },
    "language_info": {
      "name": "python"
    }
  },
  "cells": [
    {
      "cell_type": "markdown",
      "metadata": {
        "id": "view-in-github",
        "colab_type": "text"
      },
      "source": [
        "<a href=\"https://colab.research.google.com/github/sumalathareddy11/aiac/blob/main/task2.ipynb\" target=\"_parent\"><img src=\"https://colab.research.google.com/assets/colab-badge.svg\" alt=\"Open In Colab\"/></a>"
      ]
    },
    {
      "cell_type": "code",
      "execution_count": 2,
      "metadata": {
        "id": "Nfb7a6qKtOdz"
      },
      "outputs": [],
      "source": []
    },
    {
      "cell_type": "markdown",
      "source": [
        "Task Description#2 ●\n",
        "\n",
        "Compare Gemini and Copilot outputs for a palindrome check function.\n",
        "\n",
        "Expected Output#2 ●\n",
        "\n",
        "Side-by-side comparison and observations"
      ],
      "metadata": {
        "id": "joNeRhLjtPZ4"
      }
    },
    {
      "cell_type": "code",
      "source": [
        "def is_palindrome(text):\n",
        "  \"\"\"Checks if a string or number is a palindrome.\"\"\"\n",
        "  # Convert to string and remove spaces and convert to lowercase for case-insensitive check\n",
        "  text = str(text).replace(\" \", \"\").lower()\n",
        "  return text == text[::-1]\n",
        "\n",
        "# Get input from the user\n",
        "user_input = input(\"Enter a number or string to check if it's a palindrome: \")\n",
        "\n",
        "# Check if it's a palindrome and print the result\n",
        "if is_palindrome(user_input):\n",
        "  print(f\"'{user_input}' is a palindrome.\")\n",
        "else:\n",
        "  print(f\"'{user_input}' is not a palindrome.\")"
      ],
      "metadata": {
        "colab": {
          "base_uri": "https://localhost:8080/"
        },
        "id": "_72eZg3KtkJz",
        "outputId": "2c492dec-a926-4f75-b8f3-d996acf3d2ad"
      },
      "execution_count": 1,
      "outputs": [
        {
          "output_type": "stream",
          "name": "stdout",
          "text": [
            "Enter a number or string to check if it's a palindrome: 656\n",
            "'656' is a palindrome.\n"
          ]
        }
      ]
    }
  ]
}