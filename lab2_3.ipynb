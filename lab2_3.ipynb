{
  "nbformat": 4,
  "nbformat_minor": 0,
  "metadata": {
    "colab": {
      "provenance": [],
      "authorship_tag": "ABX9TyO8fggbY+TzdOcGeJcqR4Nd",
      "include_colab_link": true
    },
    "kernelspec": {
      "name": "python3",
      "display_name": "Python 3"
    },
    "language_info": {
      "name": "python"
    }
  },
  "cells": [
    {
      "cell_type": "markdown",
      "metadata": {
        "id": "view-in-github",
        "colab_type": "text"
      },
      "source": [
        "<a href=\"https://colab.research.google.com/github/sumalathareddy11/aiac/blob/main/lab2_3.ipynb\" target=\"_parent\"><img src=\"https://colab.research.google.com/assets/colab-badge.svg\" alt=\"Open In Colab\"/></a>"
      ]
    },
    {
      "cell_type": "markdown",
      "source": [
        "Task Description#1\n",
        "\n",
        "● Use Google Gemini in Colab to write a function that reads a CSV file and calculates mean, min, max.\n",
        "\n",
        "Expected Output#1\n",
        "\n",
        "● Functional code with output and screenshot"
      ],
      "metadata": {
        "id": "Kx9A0TtZ73Qa"
      }
    },
    {
      "cell_type": "code",
      "source": [
        "import pandas as pd\n",
        "\n",
        "def analyze_csv_numeric_columns(file_path):\n",
        "  \"\"\"\n",
        "  Reads a CSV file and calculates the mean, min, and max for numeric columns.\n",
        "\n",
        "  Args:\n",
        "    file_path: The path to the CSV file.\n",
        "\n",
        "  Returns:\n",
        "    A dictionary where keys are column names and values are dictionaries\n",
        "    containing 'mean', 'min', and 'max' for that column. Returns an empty\n",
        "    dictionary if no numeric columns are found or if the file cannot be read.\n",
        "  \"\"\"\n",
        "  try:\n",
        "    df = pd.read_csv(file_path)\n",
        "    numeric_stats = {}\n",
        "    for col in df.select_dtypes(include=['number']).columns:\n",
        "      numeric_stats[col] = {\n",
        "          'mean': df[col].mean(),\n",
        "          'min': df[col].min(),\n",
        "          'max': df[col].max()\n",
        "      }\n",
        "    return numeric_stats\n",
        "  except FileNotFoundError:\n",
        "    print(f\"Error: File not found at {file_path}\")\n",
        "    return {}\n",
        "  except Exception as e:\n",
        "    print(f\"An error occurred: {e}\")\n",
        "    return {}\n",
        "\n",
        "# Example usage with the provided file path:\n",
        "file_path = \"/content/LAB2_2.3.csv\"\n",
        "stats = analyze_csv_numeric_columns(file_path)\n",
        "\n",
        "if stats:\n",
        "  for col, data in stats.items():\n",
        "    print(f\"--- Stats for column: {col} ---\")\n",
        "    print(f\"Mean: {data['mean']}\")\n",
        "    print(f\"Min: {data['min']}\")\n",
        "    print(f\"Max: {data['max']}\")\n",
        "else:\n",
        "  print(\"No numeric columns found or an error occurred.\")"
      ],
      "metadata": {
        "colab": {
          "base_uri": "https://localhost:8080/"
        },
        "id": "ds15h3Uf9ySw",
        "outputId": "d6e1aae8-0277-41e6-9b4a-39d69823b8e9"
      },
      "execution_count": null,
      "outputs": [
        {
          "output_type": "stream",
          "name": "stdout",
          "text": [
            "--- Stats for column: marks ---\n",
            "Mean: 37.9\n",
            "Min: 3\n",
            "Max: 90\n"
          ]
        }
      ]
    },
    {
      "cell_type": "markdown",
      "source": [
        "Task Description#2\n",
        "● Compare Gemini and Copilot outputs for a palindrome check function.\n",
        "Expected Output#2\n",
        "● Side-by-side comparison and observations\n"
      ],
      "metadata": {
        "id": "rSE5uGOuHmES"
      }
    },
    {
      "cell_type": "code",
      "metadata": {
        "colab": {
          "base_uri": "https://localhost:8080/"
        },
        "id": "2802ab7a",
        "outputId": "072c7924-0d36-4ccf-d8f9-da442ef7eb07"
      },
      "source": [
        "def is_palindrome(number):\n",
        "  \"\"\"\n",
        "  Checks if a given number is a palindrome.\n",
        "\n",
        "  Args:\n",
        "    number: The number to check.\n",
        "\n",
        "  Returns:\n",
        "    True if the number is a palindrome, False otherwise.\n",
        "  \"\"\"\n",
        "  # Convert the number to a string to easily reverse it\n",
        "  num_str = str(number)\n",
        "  # Compare the string with its reverse\n",
        "  return num_str == num_str[::-1]\n",
        "\n",
        "# Example usage:\n",
        "num1 = 121\n",
        "num2 = 123\n",
        "\n",
        "print(f\"Is {num1} a palindrome? {is_palindrome(num1)}\")\n",
        "print(f\"Is {num2} a palindrome? {is_palindrome(num2)}\")"
      ],
      "execution_count": null,
      "outputs": [
        {
          "output_type": "stream",
          "name": "stdout",
          "text": [
            "Is 121 a palindrome? True\n",
            "Is 123 a palindrome? False\n"
          ]
        }
      ]
    },
    {
      "cell_type": "markdown",
      "source": [
        "Task Description#3\n",
        "● Ask Gemini to explain a Python function (to calculate area of various shapes) line by\n",
        "line..\n",
        "Expected Output#3\n",
        "● Detailed explanation with code snippet"
      ],
      "metadata": {
        "id": "ykSdmgYnIdok"
      }
    },
    {
      "cell_type": "code",
      "metadata": {
        "colab": {
          "base_uri": "https://localhost:8080/"
        },
        "id": "0874ad51",
        "outputId": "85fbca29-6b5e-4b54-bcd5-f967d4c1ae05"
      },
      "source": [
        "import math\n",
        "\n",
        "def area_square(side):\n",
        "  \"\"\"Calculates the area of a square.\"\"\"\n",
        "  # The area of a square is the side length squared.\n",
        "  return side * side\n",
        "\n",
        "def area_rectangle(length, width):\n",
        "  \"\"\"Calculates the area of a rectangle.\"\"\"\n",
        "  # The area of a rectangle is the product of its length and width.\n",
        "  return length * width\n",
        "\n",
        "def area_circle(radius):\n",
        "  \"\"\"Calculates the area of a circle.\"\"\"\n",
        "  # The area of a circle is pi times the radius squared.\n",
        "  return math.pi * radius**2\n",
        "\n",
        "# Example usage:\n",
        "square_side = 5\n",
        "rectangle_length = 4\n",
        "rectangle_width = 6\n",
        "circle_radius = 3\n",
        "\n",
        "print(f\"Area of square with side {square_side}: {area_square(square_side)}\")\n",
        "print(f\"Area of rectangle with length {rectangle_length} and width {rectangle_width}: {area_rectangle(rectangle_length, rectangle_width)}\")\n",
        "print(f\"Area of circle with radius {circle_radius}: {area_circle(circle_radius)}\")"
      ],
      "execution_count": null,
      "outputs": [
        {
          "output_type": "stream",
          "name": "stdout",
          "text": [
            "Area of square with side 5: 25\n",
            "Area of rectangle with length 4 and width 6: 24\n",
            "Area of circle with radius 3: 28.274333882308138\n"
          ]
        }
      ]
    },
    {
      "cell_type": "markdown",
      "source": [
        "Task Description#5\n",
        "● Student need to write code to calculate sum of add number and even numbers in the\n",
        "list\n",
        "Expected Output#5\n",
        "● Refactored code written by student with improved logic\n"
      ],
      "metadata": {
        "id": "xPIIpnFdIt1n"
      }
    },
    {
      "cell_type": "code",
      "metadata": {
        "colab": {
          "base_uri": "https://localhost:8080/"
        },
        "id": "d523a510",
        "outputId": "ccecc667-0d36-497f-b1a2-956a50dd1b43"
      },
      "source": [
        "=def sum_odd_even(numbers):\n",
        "  \"\"\"\n",
        "  Calculates the sum of odd and even numbers in a list.\n",
        "\n",
        "  Args:\n",
        "    numbers: A list of numbers.\n",
        "\n",
        "  Returns:\n",
        "    A tuple containing the sum of odd numbers and the sum of even numbers.\n",
        "  \"\"\"\n",
        "  sum_odd = 0\n",
        "  sum_even = 0\n",
        "  for number in numbers:\n",
        "    if number % 2 == 0:\n",
        "      sum_even += number\n",
        "    else:\n",
        "      sum_odd += number\n",
        "  return sum_odd, sum_even\n",
        "\n",
        "# Example usage:\n",
        "my_list = [1, 2, 3, 4, 5, 6, 7, 8, 9, 10]\n",
        "odd_sum, even_sum = sum_odd_even(my_list)\n",
        "\n",
        "print(f\"The list is: {my_list}\")\n",
        "print(f\"Sum of odd numbers: {odd_sum}\")\n",
        "print(f\"Sum of even numbers: {even_sum}\")"
      ],
      "execution_count": null,
      "outputs": [
        {
          "output_type": "stream",
          "name": "stdout",
          "text": [
            "The list is: [1, 2, 3, 4, 5, 6, 7, 8, 9, 10]\n",
            "Sum of odd numbers: 25\n",
            "Sum of even numbers: 30\n"
          ]
        }
      ]
    }
  ]
}