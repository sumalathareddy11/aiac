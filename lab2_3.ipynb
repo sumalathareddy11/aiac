{
  "nbformat": 4,
  "nbformat_minor": 0,
  "metadata": {
    "colab": {
      "provenance": [],
      "authorship_tag": "ABX9TyNbawBc9AC1yFk8cne/jBXP",
      "include_colab_link": true
    },
    "kernelspec": {
      "name": "python3",
      "display_name": "Python 3"
    },
    "language_info": {
      "name": "python"
    }
  },
  "cells": [
    {
      "cell_type": "markdown",
      "metadata": {
        "id": "view-in-github",
        "colab_type": "text"
      },
      "source": [
        "<a href=\"https://colab.research.google.com/github/sumalathareddy11/aiac/blob/main/lab2_3.ipynb\" target=\"_parent\"><img src=\"https://colab.research.google.com/assets/colab-badge.svg\" alt=\"Open In Colab\"/></a>"
      ]
    },
    {
      "cell_type": "markdown",
      "source": [
        "Task Description#1\n",
        "\n",
        "● Use Google Gemini in Colab to write a function that reads a CSV file and calculates mean, min, max.\n",
        "\n",
        "Expected Output#1\n",
        "\n",
        "● Functional code with output and screenshot"
      ],
      "metadata": {
        "id": "Kx9A0TtZ73Qa"
      }
    },
    {
      "cell_type": "code",
      "source": [
        "import pandas as pd\n",
        "\n",
        "def analyze_csv_numeric_columns(file_path):\n",
        "  \"\"\"\n",
        "  Reads a CSV file and calculates the mean, min, and max for numeric columns.\n",
        "\n",
        "  Args:\n",
        "    file_path: The path to the CSV file.\n",
        "\n",
        "  Returns:\n",
        "    A dictionary where keys are column names and values are dictionaries\n",
        "    containing 'mean', 'min', and 'max' for that column. Returns an empty\n",
        "    dictionary if no numeric columns are found or if the file cannot be read.\n",
        "  \"\"\"\n",
        "  try:\n",
        "    df = pd.read_csv(file_path)\n",
        "    numeric_stats = {}\n",
        "    for col in df.select_dtypes(include=['number']).columns:\n",
        "      numeric_stats[col] = {\n",
        "          'mean': df[col].mean(),\n",
        "          'min': df[col].min(),\n",
        "          'max': df[col].max()\n",
        "      }\n",
        "    return numeric_stats\n",
        "  except FileNotFoundError:\n",
        "    print(f\"Error: File not found at {file_path}\")\n",
        "    return {}\n",
        "  except Exception as e:\n",
        "    print(f\"An error occurred: {e}\")\n",
        "    return {}\n",
        "\n",
        "# Example usage with the provided file path:\n",
        "file_path = \"/content/LAB2_2.3.csv\"\n",
        "stats = analyze_csv_numeric_columns(file_path)\n",
        "\n",
        "if stats:\n",
        "  for col, data in stats.items():\n",
        "    print(f\"--- Stats for column: {col} ---\")\n",
        "    print(f\"Mean: {data['mean']}\")\n",
        "    print(f\"Min: {data['min']}\")\n",
        "    print(f\"Max: {data['max']}\")\n",
        "else:\n",
        "  print(\"No numeric columns found or an error occurred.\")"
      ],
      "metadata": {
        "colab": {
          "base_uri": "https://localhost:8080/"
        },
        "id": "ds15h3Uf9ySw",
        "outputId": "75bd7346-62bf-4f49-c122-da03d9c4aacc"
      },
      "execution_count": null,
      "outputs": [
        {
          "output_type": "stream",
          "name": "stdout",
          "text": [
            "--- Stats for column: marks ---\n",
            "Mean: 37.9\n",
            "Min: 3\n",
            "Max: 90\n"
          ]
        }
      ]
    },
    {
      "cell_type": "markdown",
      "source": [
        "Task Description#2\n",
        "● Compare Gemini and Copilot outputs for a palindrome check function.\n",
        "Expected Output#2\n",
        "● Side-by-side comparison and observations\n"
      ],
      "metadata": {
        "id": "abbou0LU-mqI"
      }
    },
    {
      "cell_type": "code",
      "source": [],
      "metadata": {
        "id": "cBemqmEi-3K2"
      },
      "execution_count": null,
      "outputs": []
    }
  ]
}