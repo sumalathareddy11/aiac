{
  "nbformat": 4,
  "nbformat_minor": 0,
  "metadata": {
    "colab": {
      "provenance": []
    },
    "kernelspec": {
      "name": "python3",
      "display_name": "Python 3"
    },
    "language_info": {
      "name": "python"
    }
  },
  "cells": [
    {
      "cell_type": "code",
      "execution_count": null,
      "metadata": {
        "id": "mtsHatX8oLTm"
      },
      "outputs": [],
      "source": [
        "Task Description#1\n",
        "● Zero-shot: Prompt AI to write a function that checks whether a given year is a leap\n",
        "year.\n",
        "Expected Output#1\n",
        "● AI-generated function with no examples provided"
      ]
    },
    {
      "cell_type": "code",
      "metadata": {
        "colab": {
          "base_uri": "https://localhost:8080/"
        },
        "id": "be75b72f",
        "outputId": "2546a8cb-3b46-4a91-e498-b81374f65151"
      },
      "source": [
        "def is_leap_year(year):\n",
        "  \"\"\"\n",
        "  Checks if a given year is a leap year.\n",
        "\n",
        "  Args:\n",
        "    year: The year to check.\n",
        "\n",
        "  Returns:\n",
        "    Prints whether the year is a leap year or not.\n",
        "  \"\"\"\n",
        "  if (year % 4 == 0 and year % 100 != 0) or (year % 400 == 0):\n",
        "    print(f\"{year} is a leap year.\")\n",
        "  else:\n",
        "    print(f\"{year} is not a leap year.\")\n",
        "\n",
        "# Get input from the user\n",
        "try:\n",
        "  year_input = int(input(\"Enter a year: \"))\n",
        "  is_leap_year(year_input)\n",
        "except ValueError:\n",
        "  print(\"Invalid input. Please enter a valid year (a number).\")"
      ],
      "execution_count": null,
      "outputs": [
        {
          "output_type": "stream",
          "name": "stdout",
          "text": [
            "Enter a year: 2024\n",
            "2024 is a leap year.\n"
          ]
        }
      ]
    },
    {
      "cell_type": "markdown",
      "source": [
        "Task Description#2\n",
        "● One-shot: Give one input-output example to guide AI in writing a function that\n",
        "converts centimeters to inches.\n",
        "Expected Output#2\n",
        "● Function with correct conversion logic"
      ],
      "metadata": {
        "id": "O0BIFmT7DAno"
      }
    },
    {
      "cell_type": "code",
      "metadata": {
        "colab": {
          "base_uri": "https://localhost:8080/"
        },
        "id": "5b3ab491",
        "outputId": "377e0215-f491-4daa-976b-c5bad8555ad2"
      },
      "source": [
        "def centimeters_to_inches(cm):\n",
        "  \"\"\"\n",
        "  Converts centimeters to inches.\n",
        "\n",
        "  Args:\n",
        "    cm: The value in centimeters to convert.\n",
        "\n",
        "  Returns:\n",
        "    The converted value in inches.\n",
        "  \"\"\"\n",
        "  return cm * 0.393701\n",
        "\n",
        "# Get input from the user\n",
        "try:\n",
        "  cm_input = float(input(\"Enter a value in centimeters: \"))\n",
        "  inches_output = centimeters_to_inches(cm_input)\n",
        "  print(f\"{cm_input} centimeters is equal to {inches_output:.2f} inches.\")\n",
        "except ValueError:\n",
        "  print(\"Invalid input. Please enter a valid number for centimeters.\")"
      ],
      "execution_count": 1,
      "outputs": [
        {
          "output_type": "stream",
          "name": "stdout",
          "text": [
            "Enter a value in centimeters: 20\n",
            "20.0 centimeters is equal to 7.87 inches.\n"
          ]
        }
      ]
    },
    {
      "cell_type": "markdown",
      "source": [
        "Task Description#3\n",
        "●\tFew-shot: Provide 2–3 examples to generate a function that formats full names as “Last, First”.\n",
        "Expected Output#3\n",
        "●\tWell-structured function respecting the examples\n",
        "\n"
      ],
      "metadata": {
        "id": "mNxV_7DyHwnE"
      }
    },
    {
      "cell_type": "code",
      "metadata": {
        "colab": {
          "base_uri": "https://localhost:8080/"
        },
        "id": "1d316d2f",
        "outputId": "22fe626d-7fab-4c27-bd33-1992fa11051c"
      },
      "source": [
        "def format_name(first_name, last_name):\n",
        "  \"\"\"\n",
        "  Formats a name as \"Last, First\".\n",
        "\n",
        "  Args:\n",
        "    first_name: The first name.\n",
        "    last_name: The last name.\n",
        "\n",
        "  Returns:\n",
        "    The formatted name string.\n",
        "  \"\"\"\n",
        "  return f\"{last_name}, {first_name}\"\n",
        "\n",
        "# Get input from the user\n",
        "try:\n",
        "  full_name_input = input(\"Enter a full name (First Last): \")\n",
        "  first, last = full_name_input.split()\n",
        "  formatted_name = format_name(first, last)\n",
        "  print(f\"Formatted name: {formatted_name}\")\n",
        "except ValueError:\n",
        "  print(\"Invalid input format. Please enter the name as 'First Last'.\")"
      ],
      "execution_count": 2,
      "outputs": [
        {
          "output_type": "stream",
          "name": "stdout",
          "text": [
            "Enter a full name (First Last): sharu goud\n",
            "Formatted name: goud, sharu\n"
          ]
        }
      ]
    },
    {
      "cell_type": "markdown",
      "source": [
        "Task Description#4\n",
        "●\tCompare zero-shot and few-shot prompts for writing a function that counts the number of vowels in a string.\n",
        "Expected Output#4\n",
        "●\tFunctional output and comparative reflection\n",
        "\n"
      ],
      "metadata": {
        "id": "mjjQFAH5MHPD"
      }
    },
    {
      "cell_type": "code",
      "metadata": {
        "colab": {
          "base_uri": "https://localhost:8080/"
        },
        "id": "bf7b70df",
        "outputId": "9915da59-161e-4d89-f880-5b564a93cb65"
      },
      "source": [
        "def count_vowels(input_string):\n",
        "  \"\"\"\n",
        "  Counts the number of vowels in a given string.\n",
        "\n",
        "  Args:\n",
        "    input_string: The string to check.\n",
        "\n",
        "  Returns:\n",
        "    The number of vowels in the string.\n",
        "  \"\"\"\n",
        "  vowels = \"aeiouAEIOU\"\n",
        "  vowel_count = 0\n",
        "  for char in input_string:\n",
        "    if char in vowels:\n",
        "      vowel_count += 1\n",
        "  return vowel_count\n",
        "\n",
        "# Get input from the user\n",
        "text = input(\"Enter a string: \")\n",
        "num_vowels = count_vowels(text)\n",
        "print(f\"The number of vowels in the string is: {num_vowels}\")"
      ],
      "execution_count": 3,
      "outputs": [
        {
          "output_type": "stream",
          "name": "stdout",
          "text": [
            "Enter a string: sumalatha\n",
            "The number of vowels in the string is: 4\n"
          ]
        }
      ]
    },
    {
      "cell_type": "code",
      "metadata": {
        "colab": {
          "base_uri": "https://localhost:8080/"
        },
        "id": "44b77e1c",
        "outputId": "25c32e81-5291-4806-9459-127978eca59a"
      },
      "source": [
        "def count_vowels_effective(input_string):\n",
        "  \"\"\"\n",
        "  Counts the number of vowels in a given string using a more concise approach.\n",
        "\n",
        "  Args:\n",
        "    input_string: The string to check.\n",
        "\n",
        "  Returns:\n",
        "    The number of vowels in the string.\n",
        "  \"\"\"\n",
        "  vowels = \"aeiouAEIOU\"\n",
        "  return sum(1 for char in input_string if char in vowels)\n",
        "\n",
        "# Get input from the user\n",
        "text = input(\"Enter a string: \")\n",
        "num_vowels = count_vowels_effective(text)\n",
        "print(f\"The number of vowels in the string is: {num_vowels}\")"
      ],
      "execution_count": 4,
      "outputs": [
        {
          "output_type": "stream",
          "name": "stdout",
          "text": [
            "Enter a string: siddharatha\n",
            "The number of vowels in the string is: 4\n"
          ]
        }
      ]
    },
    {
      "cell_type": "markdown",
      "source": [
        "Task Description#5\n",
        "●\tUse few-shot prompting to generate a function that reads a .txt file and returns the number of lines.\n",
        "Expected Output#5\n",
        "●\tWorking file-processing function with AI-guided logic\n",
        "\n"
      ],
      "metadata": {
        "id": "slTeRYJqWYzN"
      }
    },
    {
      "cell_type": "code",
      "metadata": {
        "colab": {
          "base_uri": "https://localhost:8080/"
        },
        "id": "d879a877",
        "outputId": "c92b1cdd-55be-4461-ce6d-5c06bcbb544c"
      },
      "source": [
        "# Replace 'sample1.txt' with the name of your uploaded file\n",
        "file_name = \"sample1.txt\"\n",
        "num_lines = count_lines_in_file(file_name)\n",
        "\n",
        "if num_lines != -1:\n",
        "  print(f\"The file '{file_name}' has {num_lines} lines.\")"
      ],
      "execution_count": 19,
      "outputs": [
        {
          "output_type": "stream",
          "name": "stdout",
          "text": [
            "The file 'sample1.txt' has 3 lines.\n"
          ]
        }
      ]
    }
  ]
}